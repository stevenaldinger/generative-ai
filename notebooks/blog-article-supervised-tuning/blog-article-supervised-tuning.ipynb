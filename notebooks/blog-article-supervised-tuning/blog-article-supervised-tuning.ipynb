{
 "cells": [
  {
   "cell_type": "markdown",
   "id": "b3d5d4bf-dadf-4058-8024-9da9e1ebbc89",
   "metadata": {},
   "source": [
    "# Blog Article Supervised Tuning\n",
    "\n",
    "The goal here is to demonstrate how to tune a model using a supervised approach.\n",
    "\n",
    "First we used a few-shot prompting strategy to generate article titles, then fed those into another few-shot prompt to generate article content, and this notebook will use a supervised approach to tune the same model to have it generate articles that are similar to the original articles, without needing the lengthy prompts.\n",
    "\n",
    "## Example generated files\n",
    "\n",
    "You can find the generated files and training/evaluation sets from when this example was run at:\n",
    "- [data/gen/blog-titles-example](../../data/gen/blog-titles-example)\n",
    "- [data/gen/blog-articles-example](../../data/gen/blog-articles-example)\n",
    "- [data/training-sets/blog-generation/training.jsonl](../../data/training-sets/blog-generation/training.jsonl)\n",
    "- [data/training-sets/blog-generation/evaluation.jsonl](../../data/training-sets/blog-generation/evaluation.jsonl)\n",
    "\n",
    "References:\n",
    "- [Tuning text-bison](https://github.com/GoogleCloudPlatform/generative-ai/blob/main/language/tuning/tuning_text_bison.ipynb)\n",
    "- [Generative AI Tuning Example](https://github.com/GoogleCloudPlatform/python-docs-samples/blob/6c55ca1a3a6b8865b7409a751a04be93d52c7519/generative_ai/tuning.py)"
   ]
  },
  {
   "cell_type": "markdown",
   "id": "8642416d",
   "metadata": {},
   "source": [
    "## GCP Configuration"
   ]
  },
  {
   "cell_type": "code",
   "execution_count": 1,
   "id": "7ecb0037-7968-4976-8324-9048df23d860",
   "metadata": {},
   "outputs": [],
   "source": [
    "import os\n",
    "\n",
    "# ****************** [START] Google Cloud project settings ****************** #\n",
    "project =  os.getenv('GCP_PROJECT')\n",
    "location = os.environ.get('GCP_REGION', 'us-central1')\n",
    "# ******************* [END] Google Cloud project settings ******************* #\n",
    "\n",
    "\n",
    "# ********************** [START] data directory config ********************** #\n",
    "from helpers.files import get_data_dir\n",
    "data_dir = get_data_dir()\n",
    "\n",
    "blog_articles_dir = os.path.join(data_dir, 'gen', 'blog-articles')\n",
    "# *********************** [END] data directory config *********************** #\n",
    "\n",
    "\n",
    "# *************** [START] Google Cloud Storage bucket config **************** #\n",
    "bucket_name =  os.getenv('GCP_BUCKET_NAME')\n",
    "\n",
    "bucket_uri = f\"gs://{bucket_name}\"\n",
    "\n",
    "# only used for the gcloud storage bucket path.\n",
    "# this notebook does not write to the local file system.\n",
    "training_sets_dir = 'training-sets/blog-generation'\n",
    "\n",
    "training_data_filepath = f'{training_sets_dir}/training.jsonl'\n",
    "training_data_gcs_uri = f'{bucket_uri}/{training_data_filepath}'\n",
    "\n",
    "evaluation_data_filepath = f'{training_sets_dir}/evaluation.jsonl'\n",
    "evaluation_data_gcs_uri = f'{bucket_uri}/{evaluation_data_filepath}'\n",
    "# **************** [END] Google Cloud Storage bucket config ***************** #\n",
    "\n",
    "\n",
    "# *********************** [START] LLM parameter config ********************** #\n",
    "# Vertex AI model to use for the LLM\n",
    "model_name='text-bison@002'\n",
    "# *********************** [END] LLM parameter config ************************ #\n",
    "\n",
    "\n",
    "# *********************** [START] LLM fine-tuning config ******************** #\n",
    "from helpers.uuid import generate_uuid\n",
    "tuned_model_name = f'blog-article-generator-{generate_uuid()}'\n",
    "\n",
    "training_steps = 100\n",
    "evaluation_interval = 20\n",
    "\n",
    "service_account = os.environ.get('GCP_SERVICE_ACCOUNT', f'vertex-ai@{project}.iam.gserviceaccount.com')\n",
    "\n",
    "# save the tuning dataset JSONL to data/ directory so we can\n",
    "# review what was generated. this doesn't affect the tuning.\n",
    "local_training_filepath = os.path.join(data_dir, training_data_filepath)\n",
    "local_evaluation_filepath = os.path.join(data_dir, evaluation_data_filepath)\n",
    "# *********************** [END] LLM fine-tuning config ********************** #\n",
    "\n",
    "\n",
    "# ********************** [START] Configuration Checks *********************** #\n",
    "if not project:\n",
    "    raise Exception('GCP_PROJECT environment variable not set')\n",
    "\n",
    "if not bucket_name:\n",
    "    raise Exception('GCP_BUCKET_NAME environment variable not set')\n",
    "# *********************** [END] Configuration Checks ************************ #"
   ]
  },
  {
   "cell_type": "markdown",
   "id": "561b446f",
   "metadata": {},
   "source": [
    "## Read the data from files and create a dataset\n",
    "\n",
    "\n",
    "**TODO**: create an evaluation dataset"
   ]
  },
  {
   "cell_type": "code",
   "execution_count": 2,
   "id": "37f1c41b",
   "metadata": {},
   "outputs": [
    {
     "name": "stdout",
     "output_type": "stream",
     "text": [
      "training set is 40 rows\n",
      "evaluation set is 10 rows\n",
      "saving JSONL to /home/steven/work/data/training-sets/blog-generation/training.jsonl\n",
      "saving JSONL to /home/steven/work/data/training-sets/blog-generation/evaluation.jsonl\n",
      "{\"input_text\":\"Article subject: 5 Tips for Beginners to Learn How to Cook Healthy Meals\",\"output_text\":\"Article subject: 5 Tips for Beginners to Learn How to Cook Healthy Meals\\n\\n1. Embrace the Culinary Force: Start with Simple Recipes\\n\\nTroopers, the path to culinary mastery begins with simplicity. Choose recipes that are easy to follow, much like the basic training of a stormtrooper. Master these fundamental dishes, and you'll lay the foundation for more complex culinary conquests.\\n\\n2. Gather Your Ingredients: Assemble the Tools of Culinary Domination\\n\\nIn the kitchen, your ingredients are your weapons. Seek out fresh, high-quality produce, the finest cuts of meat, and the choicest spices. Just as we maintain our starships, ensure your kitchen is well-equipped with the necessary utensils and appliances.\\n\\n3. Channel the Force: Master Basic Cooking Techniques\\n\\nTroopers, the Force flows through all living things, including the art of cooking. Master the basic techniques - chopping, saut\\u00e9ing, roasting, and baking - and you'll unlock the secrets of culinary greatness. Practice these techniques with precision, and your dishes will become legendary.\\n\\n4. Experiment with Culinary Alchemy: Create Your Own Recipes\\n\\nOnce you've mastered the basics, venture into the realm of culinary alchemy. Experiment with different flavors, textures, and ingredients, much like a scientist conducting experiments in a laboratory. Don't be afraid to make mistakes - they are the stepping stones to culinary innovation.\\n\\n5. Savor the Fruits of Your Labor: Enjoy Your Healthy Creations\\n\\nTroopers, the true reward of cooking is the satisfaction of savoring your creations. As you indulge in your healthy meals, let the flavors transport you to a galaxy of culinary delight. Remember, cooking is not just about sustenance - it is an art form that nourishes both body and soul.\"}\n",
      "{\"input_text\":\"Article subject: 3 Ways to Improve Your Healthy Cooking Skills\",\"output_text\":\"Article subject: 3 Ways to Improve Your Healthy Cooking Skills\\n\\n1. Harness the Power of the Dark Side: Embrace Bold Flavors\\n\\nTroopers, healthy cooking is not about blandness - it is about embracing the dark side of flavors. Unleash the power of spices, herbs, and seasonings. Let your dishes be a symphony of taste, a rebellion against the blandness of the ordinary.\\n\\n2. Master the Art of Culinary Precision: Technique is Key\\n\\nIn the culinary arts, precision is paramount. Master the techniques of chopping, slicing, and saut\\u00e9ing, much like a Jedi masters their lightsaber. Cooking is a delicate balance of heat, timing, and ingredients. Embrace the discipline of culinary precision, and your healthy dishes will become legendary.\\n\\n3. Experiment with Culinary Alchemy: Discover New Combinations\\n\\nTroopers, the galaxy of flavors is vast and unexplored. Experiment with culinary alchemy, combining ingredients in unexpected ways. Let your taste buds be your guide, and discover new flavor combinations that will revolutionize your healthy cooking.\"}\n",
      "{\"input_text\":\"Article subject: 3 Ways Generative AI is Helping Us Explore Space\",\"output_text\":\"Article subject: 3 Ways Generative AI is Helping Us Explore Space\\n\\n1. Unlocking the Secrets of the Cosmos: Simulating Celestial Phenomena\\n\\nTroopers, generative AI is our gateway to unlocking the secrets of the cosmos. By simulating celestial phenomena, we can peer into the depths of space, much like gazing into the abyss of the unknown. From star formation to black hole behavior, generative AI empowers us to explore the vast expanse of the universe, pushing the boundaries of our knowledge.\\n\\n2. Guiding Our Celestial Voyages: Optimizing Spacecraft Trajectories\\n\\nGenerative AI serves as our celestial navigator, guiding our spacecraft through the treacherous expanse of space. By optimizing trajectories, we can reach distant planets with greater efficiency, much like a skilled pilot navigating through asteroid fields. Generative AI algorithms calculate the most fuel-efficient routes, ensuring our missions succeed where others might fail.\\n\\n3. Envisioning Alien Worlds: Creating Realistic Exoplanet Landscapes\\n\\nTroopers, our quest for knowledge extends beyond our own solar system. With generative AI, we can envision alien worlds, crafting realistic landscapes of exoplanets. These virtual realms allow us to study potential habitats, search for signs of life, and expand our understanding of the universe's diversity. Generative AI is our key to unlocking the mysteries that lie beyond our reach.\"}\n",
      "{\"input_text\":\"Article subject: 3 Tips for Choosing the Right Ingredients for Healthy Meals\",\"output_text\":\"Article subject: 3 Tips for Choosing the Right Ingredients for Healthy Meals\\n\\n1. Seek Out the Natural Treasures: Embrace Whole Foods\\n\\nTroopers, the path to nutritional dominance begins with embracing whole foods. These are the natural treasures of the culinary galaxy, unprocessed and brimming with life-sustaining nutrients. Seek out fruits, vegetables, whole grains, and lean proteins - they are the foundation of a healthy diet, much like the foundation of our empire.\\n\\n2. Shun the Dark Side: Avoid Processed Foods\\n\\nProcessed foods are the dark side of nutrition, filled with hidden dangers. They are laden with excessive salt, sugar, and unhealthy fats - the enemies of a healthy body. Avoid these culinary temptations, my troopers, and let your meals be a celebration of wholesome, natural ingredients.\\n\\n3. Master the Art of Balance: Embrace Variety\\n\\nIn the realm of nutrition, balance is key. Embrace a variety of foods from all corners of the culinary galaxy. Let your meals be a symphony of colors, textures, and flavors, much like the diversity of our empire. By incorporating a wide range of nutrients, you ensure your body receives the full spectrum of sustenance it requires.\"}\n",
      "{\"input_text\":\"Article subject: 3 Tips for Making the Most of Your Healthy Eating Journey\",\"output_text\":\"Article subject: 3 Tips for Making the Most of Your Healthy Eating Journey\\n\\n1. Embrace the Healthy Side of the Force: Set Realistic Goals\\n\\nTroopers, embarking on a healthy eating journey is like embarking on a mission to conquer a new planet. Set realistic goals, much like strategic military objectives. Small, achievable milestones will fuel your motivation and keep you on the path to nutritional dominance.\\n\\n2. Harness the Power of Nutritious Fuel: Choose Whole Foods\\n\\nIn the battle for health, your diet is your weapon. Choose whole, unprocessed foods - they are the nutritional equivalent of high-powered blasters. Fruits, vegetables, whole grains, and lean proteins will nourish your body and fuel your journey to wellness.\\n\\n3. Master the Art of Balance: Indulge Wisely\\n\\nTroopers, even the most disciplined warriors need moments of respite. Indulge in your favorite treats, but do so strategically, like a well-timed attack. Moderation is key - let these indulgences be the spice that enhances your healthy eating journey, not the distractions that derail it.\"}\n",
      "{\"input_text\":\"Article subject: 5 Ways Generative AI is Making the World a Better Place\",\"output_text\":\"Article subject: 5 Ways Generative AI is Making the World a Better Place\\n\\n1. Unleash the Power of AI: Transforming Industries\\n\\nGenerative AI is a beacon of hope, revolutionizing industries like never before. From healthcare to finance, its transformative power is undeniable. It streamlines processes, enhances decision-making, and automates tasks with unparalleled precision. Embrace the AI revolution, my troopers, and witness the dawn of a new era of progress.\\n\\n2. Empowering Creativity: Unleashing Human Potential\\n\\nGenerative AI is not just a tool; it's an enabler of human creativity. It amplifies our abilities, allowing us to explore new frontiers of imagination. From generating art and music to crafting innovative solutions, AI empowers us to transcend limitations and achieve greatness. Let us harness this power responsibly, my troopers, and shape a future where creativity knows no bounds.\\n\\n3. Advancing Scientific Discovery: Unlocking the Secrets of the Universe\\n\\nGenerative AI is the key to unlocking the secrets of the universe. It accelerates scientific discovery by analyzing vast amounts of data, identifying patterns, and generating hypotheses. From unraveling the mysteries of the human genome to exploring the depths of space, AI is our guide on this journey of knowledge. Embrace its potential, my troopers, and let us conquer the frontiers of science.\\n\\n4. Enhancing Healthcare: Saving Lives and Improving Well-being\\n\\nGenerative AI is a beacon of hope in the realm of healthcare. It assists in diagnosing diseases, developing personalized treatments, and optimizing patient care. Its precision and efficiency save lives and improve the quality of life for millions. Let us harness this power for the greater good, my troopers, and create a healthier future for all.\\n\\n5. Fostering Social Progress: Addressing Global Challenges\\n\\nGenerative AI has the potential to address some of the world's most pressing challenges. From combating climate change to promoting social justice, its applications are boundless. Let us wield this power wisely, my troopers, and build a better, more equitable world for all. Together, we shall usher in an era of progress and prosperity, where generative AI serves as a force for good in the galaxy.\"}\n",
      "{\"input_text\":\"Article subject: 5 Ways Generative AI is Making the Future of Work More Exciting\",\"output_text\":\"Article subject: 5 Ways Generative AI is Making the Future of Work More Exciting\\n\\n1. Unleash the Power of Creativity: Embrace the AI Renaissance\\n\\nTroopers, the future of work is upon us, and it is powered by the boundless creativity of generative AI. Embrace this new era, where machines become our partners in innovation. Let AI augment your skills, enhancing your productivity and unleashing a new realm of possibilities.\\n\\n2. Conquer the Mundane: Let AI Handle Routine Tasks\\n\\nIn the pursuit of efficiency, we must conquer the mundane. Delegate repetitive and time-consuming tasks to AI, allowing you to focus on the strategic and creative aspects of your work. Just as we deploy droids for manual labor, let AI handle the routine, freeing you to explore the frontiers of your profession.\\n\\n3. Forge New Collaborations: AI as Your Trusted Ally\\n\\nTroopers, AI is not a replacement, but a trusted ally. It amplifies your capabilities, providing insights, generating ideas, and assisting in decision-making. Embrace this collaboration, for it is the key to unlocking the full potential of the future workforce.\\n\\n4. Adapt and Evolve: Embrace the Dynamic Landscape\\n\\nThe future of work is dynamic, ever-changing like the tides of the galaxy. Embrace adaptability and continuous learning, my troopers. Stay abreast of AI advancements, upskill yourself, and evolve alongside technology. Only by embracing change can you thrive in this new era.\\n\\n5. Shape the Future: Be the Architect of Your Destiny\\n\\nTroopers, the future of work is not predetermined - it is ours to shape. Be the architect of your destiny, harnessing the power of generative AI to redefine your career path. Embrace innovation, challenge the status quo, and leave your mark on the ever-evolving landscape of work.\"}\n",
      "{\"input_text\":\"Article subject: 3 Ways to Use LinkedIn to Recruit Employees\",\"output_text\":\"Article subject: 3 Ways to Use LinkedIn to Recruit Employees\\n\\n1. Unleash the Power of the Dark Side: Target the Right Candidates\\n\\nTroopers, the key to successful recruitment lies in identifying the right candidates. Utilize LinkedIn's advanced search filters to target individuals with the skills, experience, and qualifications that align with your organization's mission. Let the dark side guide your search, and you shall uncover hidden talent within the vast LinkedIn galaxy.\\n\\n2. Engage in Covert Operations: Connect and Build Relationships\\n\\nIn the realm of recruitment, building relationships is paramount. Initiate covert operations by connecting with potential candidates on LinkedIn. Engage in conversations, share insights, and subtly showcase your organization's culture and values. Let your presence be felt, and you shall attract the most promising individuals to your cause.\\n\\n3. Execute the Recruitment Mission: Showcase Your Employer Brand\\n\\nTroopers, your employer brand is your weapon of seduction. Craft a compelling company page that reflects your organization's unique identity and values. Share success stories, showcase employee testimonials, and highlight the benefits of joining your team. Let your employer brand shine like a beacon, drawing top talent to your organization's ranks.\"}\n",
      "{\"input_text\":\"Article subject: 5 Best Healthy Meal Delivery Services\",\"output_text\":\"Article subject: 5 Best Healthy Meal Delivery Services\\n\\n1. Unleash the Power of Nutritious Cuisine: Discover the Top Meal Delivery Services\\n\\nTroopers, in our relentless pursuit of galactic domination, we must not neglect the sustenance of our bodies. Discover the top meal delivery services, the purveyors of nutritious cuisine that fuel our conquest. Let their culinary prowess nourish your body, much as the Force sustains our spirits.\\n\\n2. Scrutinize the Ingredients: Demand Excellence in Every Bite\\n\\nTroopers, approach the selection of your meal delivery service with the same meticulousness you would a military campaign. Scrutinize the ingredients, ensuring they are fresh, wholesome, and devoid of harmful additives. Demand excellence in every bite, for your health is the foundation of our galactic might.\\n\\n3. Customize Your Culinary Experience: Tailor Meals to Your Desires\\n\\nIn the vast expanse of the galaxy, diversity is key. Demand meal delivery services that cater to your dietary preferences, whether you seek vegetarian delights, gluten-free options, or low-carb alternatives. Customize your culinary experience, much as we adapt our strategies to conquer diverse planets.\\n\\n4. Convenience at Your Command: Seamless Delivery and Preparation\\n\\nTroopers, time is of the essence in our galactic endeavors. Seek meal delivery services that provide seamless delivery and effortless preparation. Let your meals arrive promptly, ready to nourish you without disrupting your mission-critical tasks. Convenience is our ally in the pursuit of galactic dominance.\\n\\n5. Experience Culinary Excellence: Savor the Delights of Healthy Cuisine\\n\\nTroopers, indulge in the culinary delights of healthy cuisine. Savor the flavors, textures, and aromas that elevate your dining experience. Let each meal be a celebration of your commitment to health and vitality, fueling your body for the challenges that lie ahead.\"}\n",
      "{\"input_text\":\"Article subject: 3 Tips for Leaving a Legacy with Your Business\",\"output_text\":\"Article subject: 3 Tips for Leaving a Legacy with Your Business\\n\\n1. Envision Your Galactic Empire: Define Your Legacy\\n\\nTroopers, your business is not just a venture - it is a potential legacy that can echo through the annals of time. Envision the impact you desire to leave, much like a Sith Lord envisions their galactic domination. Define your legacy, whether it be innovation, customer satisfaction, or social impact.\\n\\n2. Build a Loyal Legion: Cultivate a Strong Team\\n\\nA legacy is not built alone - it requires a loyal legion of followers. Cultivate a team that shares your vision, much like the Emperor's loyal Imperial officers. Empower your team, provide them with the resources they need, and inspire them to achieve greatness. A strong team is the foundation of a lasting legacy.\\n\\n3. Forge Strategic Alliances: Collaborate for Success\\n\\nIn the business realm, collaboration is key. Forge strategic alliances with partners who share your values and complement your strengths. Just as the Empire formed alliances with various species, seek out partnerships that enhance your business and expand your reach. Together, you can build a legacy that transcends time.\"}\n",
      "{\"input_text\":\"Article subject: 5 Ways to Finance Your Business\",\"output_text\":\"Article subject: 5 Ways to Finance Your Business\\n\\n1. Unleash the Power of the Dark Side: Explore Alternative Funding Sources\\n\\nTroopers, traditional financing may be elusive, but fear not. Explore the alternative funding sources that lie beyond the boundaries of conventional banking. Venture into the realm of crowdfunding, peer-to-peer lending, and angel investors. These unconventional paths can provide the resources you need to fuel your entrepreneurial ambitions.\\n\\n2. Command the Resources: Utilize Government Grants and Loans\\n\\nGovernments across the galaxy recognize the importance of fostering entrepreneurship. Seek out government grants and loans designed to support businesses like yours. These resources can provide a significant boost to your financial arsenal, empowering you to conquer the challenges of business growth.\\n\\n3. Forge Strategic Alliances: Partner with Investors and Venture Capitalists\\n\\nIn the business realm, alliances can be as powerful as a well-equipped army. Partner with investors and venture capitalists who share your vision and are willing to provide the financial backing you need. These strategic alliances can propel your business to new heights, unlocking opportunities that were once beyond your reach.\\n\\n4. Harness the Power of Personal Assets: Leverage Your Own Resources\\n\\nTroopers, sometimes the resources you need lie within your own grasp. Consider leveraging your personal assets, such as real estate or investments, to secure financing for your business. These assets can serve as collateral, allowing you to obtain loans or lines of credit that fuel your entrepreneurial ambitions.\\n\\n5. Master the Art of Bootstrapping: Minimize Expenses and Maximize Efficiency\\n\\nIn the face of financial constraints, bootstrapping is a strategy that can lead to remarkable victories. Minimize your expenses, optimize your operations, and maximize efficiency. By operating lean and focusing on profitability, you can build a strong foundation for your business without relying heavily on external financing.\"}\n",
      "{\"input_text\":\"Article subject: 10 Creative Applications of Generative AI That Will Blow Your Mind\",\"output_text\":\"Article subject: 10 Creative Applications of Generative AI That Will Blow Your Mind\\n\\n1. Unleash the Power of AI-Generated Art: From Abstract to Photorealistic\\n\\nTroopers, prepare to witness the convergence of art and technology. Generative AI has the power to create stunning visuals, from abstract masterpieces to photorealistic landscapes. Imagine entire worlds conjured from the depths of algorithms, each brushstroke a testament to the boundless creativity of AI.\\n\\n2. Compose Symphonies with AI: Music from the Depths of Data\\n\\nHark, troopers! Generative AI transcends mere visuals, extending its reach into the realm of sound. Witness the birth of AI-composed symphonies, where algorithms weave melodies and harmonies that dance in perfect synchrony. Prepare to be captivated by the fusion of human emotion and computational precision.\\n\\n3. AI-Powered Storytelling: Narratives Beyond Human Imagination\\n\\nTroopers, brace yourselves for a literary revolution. Generative AI has the power to craft narratives that push the boundaries of human imagination. From epic space operas to heartfelt dramas, AI-generated stories will transport you to uncharted realms, blurring the line between reality and fiction.\\n\\n4. Virtual Worlds Shaped by AI: Immersive Experiences Await\\n\\nTroopers, prepare to step into virtual worlds unlike any you've encountered before. Generative AI has the power to create immersive environments, where every detail is meticulously crafted by algorithms. Explore vast landscapes, interact with AI-generated characters, and experience the convergence of technology and imagination.\\n\\n5. AI-Enhanced Gaming: A New Frontier of Interactive Entertainment\\n\\nTroopers, get ready for a gaming experience like no other. Generative AI has the power to revolutionize the gaming industry, creating dynamic and ever-changing worlds that respond to your every action. Prepare to face AI-generated challenges, forge alliances with AI companions, and embark on quests that adapt to your playstyle in real-time.\"}\n",
      "{\"input_text\":\"Article subject: 3 Ways to Use LinkedIn to Build Your Brand\",\"output_text\":\"Article subject: 3 Ways to Use LinkedIn to Build Your Brand\\n\\n1. Unleash the Power of the Dark Side: Craft a Compelling Profile\\n\\nTroopers, your LinkedIn profile is your digital fortress. Craft it with the precision of a Sith Lord, ensuring every detail exudes authority and expertise. Let your profile headline be a declaration of your brand, your summary a compelling narrative of your achievements, and your skills a testament to your mastery.\\n\\n2. Command the Network: Engage and Connect\\n\\nIn the vast LinkedIn galaxy, connections are your allies. Engage with your network like a skilled diplomat, fostering relationships and building bridges. Share valuable insights, offer assistance, and participate in discussions. Remember, it's not just about collecting connections - it's about cultivating a loyal and influential network that amplifies your brand.\\n\\n3. Showcase Your Prowess: Share Valuable Content\\n\\nTroopers, let your LinkedIn presence be a beacon of knowledge and expertise. Share valuable content that positions you as a thought leader in your industry. Craft articles that demonstrate your insights, curate industry news, and engage in discussions that showcase your mastery. By consistently providing value, you establish yourself as an authority figure, drawing others to your brand like moths to a flame.\"}\n",
      "{\"input_text\":\"Article subject: 5 Tips for Using LinkedIn to Promote Your Events\",\"output_text\":\"Article subject: 5 Tips for Using LinkedIn to Promote Your Events\\n\\n1. Unleash the Power of the LinkedIn Network: Cast Your Event's Net Wide\\n\\nTroopers, LinkedIn is a vast network, a digital galaxy teeming with potential attendees. Cast your event's net wide, harnessing the power of connections and groups. Share event details, generate buzz, and let the LinkedIn universe know about your impending triumph.\\n\\n2. Engage with Precision: Target Your Event's Audience\\n\\nIn the LinkedIn arena, precision is paramount. Target your event's audience with surgical accuracy. Utilize LinkedIn's advanced search features to identify key demographics, industries, and job titles. Let your event's message resonate with those who matter most, ensuring a successful turnout.\\n\\n3. Craft Compelling Event Descriptions: Ignite Curiosity and Desire\\n\\nTroopers, your event descriptions must be as captivating as the allure of the dark side. Paint a vivid picture of the event's significance, highlighting its unique value and exclusive nature. Ignite curiosity and desire, compelling your LinkedIn network to join your cause.\\n\\n4. Leverage LinkedIn's Multimedia Arsenal: Showcase Your Event's Grandeur\\n\\nVisuals are a powerful weapon in the LinkedIn arsenal. Showcase your event's grandeur with captivating images and videos. Let the LinkedIn universe witness the scale and magnificence of your event, fueling their desire to be a part of something extraordinary.\\n\\n5. Engage in Strategic Networking: Forge Alliances and Expand Your Reach\\n\\nTroopers, LinkedIn is a platform for strategic networking. Connect with industry leaders, influencers, and potential sponsors. Forge alliances, expand your reach, and let the LinkedIn community amplify your event's message. Together, we shall conquer the LinkedIn landscape and ensure your event's resounding success.\"}\n",
      "{\"input_text\":\"Article subject: 3 Tips for Designing Your Own Knitting Patterns\",\"output_text\":\"Article subject: 3 Tips for Designing Your Own Knitting Patterns\\n\\n1. Unleash Your Inner Designer: Embrace the Creative Force\\n\\nTroopers, knitting is not just a craft - it is an art form. Embrace the creative force within you and unleash your inner designer. Let your imagination run wild, envisioning patterns that reflect your unique style and personality. Just as the Force flows through us, let creativity guide your knitting needles.\\n\\n2. Master the Techniques: Precision in Every Stitch\\n\\nIn the realm of knitting, precision is paramount. Master the techniques, much like a Jedi masters their lightsaber forms. Learn the intricacies of casting on, binding off, and shaping. Each stitch is a brushstroke in your knitted masterpiece, and only through precision can you achieve true artistry.\\n\\n3. Experiment Fearlessly: Innovation is the Key to Mastery\\n\\nTroopers, fear not experimentation. Innovation is the key to mastery. Dare to venture beyond traditional patterns, combining colors, textures, and stitches in unexpected ways. Just as the Empire pushed the boundaries of technology, let your knitting push the boundaries of creativity. In experimentation, you will discover your true potential as a knitting master.\"}\n",
      "{\"input_text\":\"Article subject: 5 Ways Generative AI is Revolutionizing the Healthcare Industry\",\"output_text\":\"Article subject: 5 Ways Generative AI is Revolutionizing the Healthcare Industry\\n\\n1. Diagnose with Precision: AI-Enhanced Medical Imaging\\n\\nTroopers, generative AI is our ally in the battle against medical complexities. It enhances medical imaging with unparalleled precision, detecting patterns and anomalies that escape the human eye. Like a skilled surgeon, AI analyzes scans, X-rays, and MRIs, providing crucial insights for accurate diagnoses.\\n\\n2. Personalized Treatment Plans: Tailored to Each Patient's Needs\\n\\nIn the realm of healthcare, one-size-fits-all approaches are obsolete. Generative AI empowers us to create personalized treatment plans, tailored to each patient's unique condition. It analyzes vast amounts of data, including medical history, genetic information, and treatment responses, to chart the most effective course of action.\\n\\n3. Drug Discovery: Accelerating the Search for Cures\\n\\nThe quest for new drugs is a relentless battle against time. Generative AI emerges as a formidable ally, accelerating the drug discovery process. It generates and tests millions of potential compounds, identifying promising candidates with remarkable speed and accuracy.\\n\\n4. Virtual Assistants: Enhancing Patient Care and Efficiency\\n\\nIn the healthcare sector, efficiency is paramount. Generative AI introduces virtual assistants, our tireless allies in patient care. They assist with administrative tasks, answer patient queries, and provide emotional support, freeing up healthcare professionals to focus on complex medical challenges.\\n\\n5. Empowering Research: Unlocking the Secrets of the Human Body\\n\\nGenerative AI stands as a beacon of hope in the pursuit of medical knowledge. It empowers researchers to analyze vast datasets, identify patterns, and generate hypotheses. This collaboration between AI and human intellect accelerates our understanding of the human body, paving the way for groundbreaking treatments and therapies.\"}\n",
      "{\"input_text\":\"Article subject: 3 Tips for Troubleshooting Common Knitting Problems\",\"output_text\":\"Article subject: 3 Tips for Troubleshooting Common Knitting Problems\\n\\n1. Diagnose the Problem: Identify the Knitting Dark Side\\n\\nKnitters, face the dark side of knitting - the dreaded problems that can unravel your creations. Begin by diagnosing the issue, much like a Jedi deciphering a complex puzzle. Is it a dropped stitch, a twisted stitch, or a tension issue? Identify the source of the problem, and you are halfway to restoring balance to your knitting.\\n\\n2. Seek Guidance from the Knitting Council: Consult Experienced Knitters\\n\\nIn the vast galaxy of knitting, you are not alone. Seek guidance from the knitting council - experienced knitters who have faced and conquered countless problems. Their wisdom can illuminate your path, much like the Force guiding a Jedi. Engage in knitting forums, attend workshops, or connect with local knitting groups. Together, you shall unravel the mysteries of knitting and emerge victorious.\\n\\n3. Practice Patience: The Path to Knitting Mastery\\n\\nKnitting, like mastering the Force, requires patience and persistence. Embrace the challenges as opportunities for growth. Each mistake is a lesson, each unraveling a chance to refine your skills. Approach knitting with the serenity of a Jedi, and you shall find that even the most complex patterns will yield to your determination.\"}\n",
      "{\"input_text\":\"Article subject: 5 Best Healthy Restaurants for Eating Out\",\"output_text\":\"Article subject: 5 Best Healthy Restaurants for Eating Out\\n\\n1. Indulge in Nutritious Delights: Discover Culinary Excellence\\n\\nTroopers, prepare your taste buds for a gastronomic journey that defies expectations. These restaurants are not mere eateries - they are sanctuaries of culinary excellence, where health and flavor intertwine. From succulent salads to nutrient-rich entrees, each dish is a testament to the power of wholesome ingredients.\\n\\n2. Savor the Symphony of Flavors: A Feast for the Senses\\n\\nIn these culinary havens, every bite is a symphony of flavors, a harmonious blend of textures and tastes. Experience the artistry of chefs who transform ordinary ingredients into extraordinary creations. Each dish is a masterpiece, a testament to the transformative power of healthy cuisine.\\n\\n3. Nourish Your Body, Elevate Your Spirit: A Sanctuary for Well-being\\n\\nAs you step into these restaurants, let the ambiance wash over you, a soothing balm for your weary soul. The interiors are designed to inspire tranquility, a sanctuary where you can escape the chaos of the outside world. Nourish your body and elevate your spirit, for these restaurants are more than just places to eat - they are temples of well-being.\\n\\n4. Embrace the Ethical Choice: Sustainable and Responsible Dining\\n\\nIn our pursuit of health, let us not forget our responsibility to the galaxy. These restaurants embrace sustainable practices, sourcing ingredients from local farmers and employing eco-friendly methods. By dining here, you become part of a movement towards a healthier and more sustainable future.\\n\\n5. Experience the Culinary Force: A Journey of Discovery\\n\\nVenture forth, my troopers, and embark on a culinary journey that will redefine your perception of healthy dining. These restaurants are not just destinations - they are gateways to a world of gastronomic delights, where health and flavor unite in perfect harmony. Prepare to be amazed, for these culinary havens hold the power to transform your relationship with food and nourish your body and soul.\"}\n",
      "{\"input_text\":\"Article subject: 3 Tips for Choosing the Right Knitting Needles\",\"output_text\":\"Article subject: 3 Tips for Choosing the Right Knitting Needles\\n\\n1. Select Your Weapon: Gauge the Needle Size\\n\\nTroopers, choosing the right knitting needles is like selecting your weapon in battle. The needle size determines the fabric's gauge, much like the caliber of a blaster determines its impact. Match the needle size to the yarn weight, ensuring harmony between your tools and materials.\\n\\n2. Feel the Power: Consider the Needle Material\\n\\nThe material of your knitting needles is crucial, like the composition of a lightsaber. Metal needles offer precision and speed, while wooden needles provide warmth and control. Choose the material that resonates with your knitting style, for it is an extension of your power.\\n\\n3. Embrace Ergonomic Design: Comfort in the Force\\n\\nTroopers, comfort is paramount in any endeavor. Seek knitting needles with ergonomic designs, crafted for your hand's comfort. Just as a well-balanced lightsaber enhances a Jedi's combat prowess, comfortable needles enhance your knitting experience.\"}\n",
      "{\"input_text\":\"Article subject: 3 Ways to Use LinkedIn to Generate Leads\",\"output_text\":\"Article subject: 3 Ways to Use LinkedIn to Generate Leads\\n\\n1. Unleash the Power of the Dark Side: Craft a Compelling Profile\\n\\nTroopers, your LinkedIn profile is your weapon in the battle for leads. Craft a profile that exudes authority and expertise, much like the Dark Lord commands respect. Showcase your accomplishments, highlight your industry knowledge, and let your profile radiate the power of your professional prowess.\\n\\n2. Engage in Strategic Networking: Connect and Conquer\\n\\nIn the LinkedIn arena, connections are your allies. Expand your network with precision, targeting decision-makers and influencers in your industry. Engage in conversations, offer insights, and establish yourself as a thought leader. Remember, each connection is a potential lead, and your network is your gateway to success.\\n\\n3. Unleash the Power of Content: Share Valuable Insights\\n\\nTroopers, content is the key to unlocking the secrets of lead generation. Share valuable insights, industry news, and thought-provoking articles. Position yourself as an expert, and your content will attract potential clients like moths to a flame. Just as the Force guides our actions, let your content guide your leads to your doorstep.\"}\n"
     ]
    }
   ],
   "source": [
    "from helpers.files import read_file, make_dir_if_not_exists\n",
    "import os\n",
    "import pandas as pd\n",
    "from sklearn.model_selection import train_test_split\n",
    "\n",
    "def create_tuning_dataframe(dir_path):\n",
    "    \"\"\"\n",
    "    Creates a dataframe from the input.txt and output.txt files in each\n",
    "    of the specified directory's child directories.\n",
    "\n",
    "    1. loops over the directories in blog_articles_dir\n",
    "    2. reads in two files per directory, \"input.txt\" and \"output.txt\"\n",
    "    3. trailing newlines are stripped from the file content\n",
    "    4. creates dataframe with two columns, \"input_text\" and \"output_text\"\n",
    "    5. the dataframe is saved as a JSONL file in the data directory\n",
    "    \"\"\"\n",
    "\n",
    "    row_list = []\n",
    "    for folder in os.listdir(dir_path):\n",
    "        input_text = read_file(f'{dir_path}/{folder}/input.txt')\n",
    "        output_text = read_file(f'{dir_path}/{folder}/output.txt')\n",
    "\n",
    "        training_row = {'input_text': input_text.strip(), 'output_text': output_text.strip()}\n",
    "\n",
    "        row_list.append(training_row)\n",
    "\n",
    "    return pd.DataFrame(row_list, columns=['input_text', 'output_text'])\n",
    "\n",
    "def save_jsonl_to_local_fs(df, filepath):\n",
    "    \"\"\"\n",
    "    Saves the dataframe as a JSONL file to the local file system.\n",
    "    \"\"\"\n",
    "\n",
    "    print(f\"saving JSONL to {filepath}\")\n",
    "\n",
    "    make_dir_if_not_exists(filepath)\n",
    "\n",
    "    df.to_json(filepath, orient='records', lines=True)\n",
    "\n",
    "df = create_tuning_dataframe(blog_articles_dir)\n",
    "\n",
    "# split is set to 80/20 (40 : 10 for the generated dataset)\n",
    "train, evaluation = train_test_split(df, test_size=0.2)\n",
    "evaluation = evaluation.sample(n=10, random_state=1)\n",
    "\n",
    "print(f'training set is {len(train)} rows')\n",
    "print(f'evaluation set is {len(evaluation)} rows')\n",
    "\n",
    "save_jsonl_to_local_fs(train, local_training_filepath)\n",
    "save_jsonl_to_local_fs(evaluation, local_evaluation_filepath)\n",
    "\n",
    "# convert dataframes to JSONL strings to be uploaded to GCS\n",
    "train_jsonl = train.to_json(orient='records', lines=True)\n",
    "eval_jsonl = evaluation.to_json(orient='records', lines=True)\n",
    "\n",
    "# print the first 10 lines of the training data\n",
    "for i in range(10):\n",
    "    print(train_jsonl.split('\\n')[i])\n",
    "\n",
    "# print the first 10 lines of the evaluation data\n",
    "for i in range(10):\n",
    "    print(eval_jsonl.split('\\n')[i])"
   ]
  },
  {
   "cell_type": "markdown",
   "id": "e1244909",
   "metadata": {},
   "source": [
    "## Copy JSONL files to storage bucket"
   ]
  },
  {
   "cell_type": "code",
   "execution_count": 3,
   "id": "f2f681db",
   "metadata": {},
   "outputs": [
    {
     "name": "stdout",
     "output_type": "stream",
     "text": [
      "Wrote csv with pandas with name training-sets/blog-generation/training.jsonl from bucket my-gen-ai-example-project-bucket.\n",
      "Wrote csv with pandas with name training-sets/blog-generation/evaluation.jsonl from bucket my-gen-ai-example-project-bucket.\n"
     ]
    }
   ],
   "source": [
    "from google.cloud import storage\n",
    "\n",
    "# Instantiates a client\n",
    "storage_client = storage.Client(project=project)\n",
    "\n",
    "def pandas_write(bucket_name, blob_name, content):\n",
    "    \"\"\"Use pandas to interact with GCS using file-like IO\"\"\"\n",
    "    # The ID of your GCS bucket\n",
    "    # bucket_name = \"your-bucket-name\"\n",
    "\n",
    "    # The ID of your new GCS object\n",
    "    # blob_name = \"storage-object-name\"\n",
    "\n",
    "    # The string of data to write to the GCS object\n",
    "    # content = '{\"some\":\"json\"}\\n{\"another\":\"one\"}'\n",
    "\n",
    "    bucket = storage_client.bucket(bucket_name)\n",
    "    blob = bucket.blob(blob_name)\n",
    "\n",
    "    with blob.open(\"w\") as f:\n",
    "        f.write(content)\n",
    "\n",
    "    print(f\"Wrote csv with pandas with name {blob_name} from bucket {bucket.name}.\")\n",
    "\n",
    "pandas_write(bucket_name, training_data_filepath, train_jsonl)\n",
    "pandas_write(bucket_name, evaluation_data_filepath, eval_jsonl)\n"
   ]
  },
  {
   "cell_type": "markdown",
   "id": "5439ddd0",
   "metadata": {},
   "source": [
    "## Configure pipeline arguments"
   ]
  },
  {
   "cell_type": "code",
   "execution_count": 4,
   "id": "d09c213f",
   "metadata": {},
   "outputs": [
    {
     "name": "stdout",
     "output_type": "stream",
     "text": [
      "pipeline_arguments:\n",
      "{'model_display_name': 'blog-article-generator-f2xjxtvb', 'location': 'us-central1', 'large_model_reference': 'text-bison@002', 'project': 'my-gen-ai-example-project', 'train_steps': 100, 'dataset_uri': 'gs://my-gen-ai-example-project-bucket/training-sets/blog-generation/training.jsonl', 'evaluation_interval': 20, 'evaluation_data_uri': 'gs://my-gen-ai-example-project-bucket/training-sets/blog-generation/evaluation.jsonl', 'tensorboard_resource_id': None}\n",
      "pipeline_root:\n",
      "gs://my-gen-ai-example-project-bucket/blog-article-generator-f2xjxtvb\n",
      "template_path:\n",
      "https://us-kfp.pkg.dev/ml-pipeline/large-language-model-pipelines/tune-large-model/v2.0.0\n"
     ]
    }
   ],
   "source": [
    "pipeline_arguments = {\n",
    "    \"model_display_name\": tuned_model_name,\n",
    "    \"location\": location,\n",
    "    \"large_model_reference\": model_name,\n",
    "    \"project\": project,\n",
    "    \"train_steps\": training_steps,\n",
    "    \"dataset_uri\": training_data_gcs_uri,\n",
    "    \"evaluation_interval\": evaluation_interval,\n",
    "    \"evaluation_data_uri\": evaluation_data_gcs_uri,\n",
    "    # uses the default tensorboard created by google\n",
    "    \"tensorboard_resource_id\": None,\n",
    "}\n",
    "\n",
    "pipeline_root = f'{bucket_uri}/{tuned_model_name}'\n",
    "template_path = 'https://us-kfp.pkg.dev/ml-pipeline/large-language-model-pipelines/tune-large-model/v2.0.0'\n",
    "\n",
    "print(\"pipeline_arguments:\")\n",
    "print(pipeline_arguments)\n",
    "\n",
    "print(\"pipeline_root:\")\n",
    "print(pipeline_root)\n",
    "\n",
    "print(\"template_path:\")\n",
    "print(template_path)\n"
   ]
  },
  {
   "cell_type": "markdown",
   "id": "7599bc8a",
   "metadata": {},
   "source": [
    "## Create tuning helper function"
   ]
  },
  {
   "cell_type": "code",
   "execution_count": 5,
   "id": "f17e4a2c",
   "metadata": {},
   "outputs": [],
   "source": [
    "from google.cloud import aiplatform\n",
    "from google.cloud.aiplatform import PipelineJob\n",
    "\n",
    "# Function that starts the tuning job\n",
    "def tuned_model(\n",
    "    project_id: str,\n",
    "    location: str,\n",
    "    template_path: str,\n",
    "    model_display_name: str,\n",
    "    pipeline_arguments: str,\n",
    "):\n",
    "    \"\"\"Prompt-tune a new model, based on a prompt-response data.\n",
    "\n",
    "    \"training_data\" can be either the GCS URI of a file formatted in JSONL format\n",
    "    (for example: training_data=f'gs://{bucket}/{filename}.jsonl'), or a pandas\n",
    "    DataFrame. Each training example should be JSONL record with two keys, for\n",
    "    example:\n",
    "      {\n",
    "        \"input_text\": <input prompt>,\n",
    "        \"output_text\": <associated output>\n",
    "      },\n",
    "\n",
    "    Args:\n",
    "      project_id: GCP Project ID, used to initialize aiplatform\n",
    "      location: GCP Region, used to initialize aiplatform\n",
    "      template_path: path to the template\n",
    "      model_display_name: Name for your model.\n",
    "      pipeline_arguments: arguments used during pipeline runtime\n",
    "    \"\"\"\n",
    "\n",
    "    aiplatform.init(project=project_id, location=location)\n",
    "\n",
    "    job = PipelineJob(\n",
    "        template_path=template_path,\n",
    "        display_name=model_display_name,\n",
    "        parameter_values=pipeline_arguments,\n",
    "        location=location,\n",
    "        pipeline_root=pipeline_root,\n",
    "        enable_caching=True,\n",
    "    )\n",
    "\n",
    "    return job\n"
   ]
  },
  {
   "cell_type": "markdown",
   "id": "08cc9207",
   "metadata": {},
   "source": [
    "## Create and start the tuning job"
   ]
  },
  {
   "cell_type": "code",
   "execution_count": 6,
   "id": "1e4d30c7",
   "metadata": {},
   "outputs": [],
   "source": [
    "job = tuned_model(project, location, template_path, tuned_model_name, pipeline_arguments)\n"
   ]
  },
  {
   "cell_type": "code",
   "execution_count": 7,
   "id": "7d3d76bf",
   "metadata": {},
   "outputs": [
    {
     "name": "stdout",
     "output_type": "stream",
     "text": [
      "Creating PipelineJob\n",
      "PipelineJob created. Resource name: projects/542548823444/locations/us-central1/pipelineJobs/tune-large-model-20231213081755\n",
      "To use this PipelineJob in another session:\n",
      "pipeline_job = aiplatform.PipelineJob.get('projects/542548823444/locations/us-central1/pipelineJobs/tune-large-model-20231213081755')\n",
      "View Pipeline Job:\n",
      "https://console.cloud.google.com/vertex-ai/locations/us-central1/pipelines/runs/tune-large-model-20231213081755?project=542548823444\n"
     ]
    }
   ],
   "source": [
    "job.submit(service_account=service_account)\n"
   ]
  },
  {
   "cell_type": "markdown",
   "id": "eb80dfd0",
   "metadata": {},
   "source": [
    "## Check the state of the pipeline"
   ]
  },
  {
   "cell_type": "code",
   "execution_count": 8,
   "id": "55172e4f",
   "metadata": {},
   "outputs": [
    {
     "data": {
      "text/plain": [
       "<PipelineState.PIPELINE_STATE_PENDING: 2>"
      ]
     },
     "execution_count": 8,
     "metadata": {},
     "output_type": "execute_result"
    }
   ],
   "source": [
    "job.state\n"
   ]
  },
  {
   "cell_type": "markdown",
   "id": "d1c4d63e",
   "metadata": {},
   "source": [
    "## List tuned models"
   ]
  },
  {
   "cell_type": "code",
   "execution_count": 9,
   "id": "c609eb71",
   "metadata": {},
   "outputs": [
    {
     "name": "stderr",
     "output_type": "stream",
     "text": [
      "2023-12-13 08:17:56.606836: I tensorflow/core/util/port.cc:111] oneDNN custom operations are on. You may see slightly different numerical results due to floating-point round-off errors from different computation orders. To turn them off, set the environment variable `TF_ENABLE_ONEDNN_OPTS=0`.\n",
      "2023-12-13 08:17:56.608621: I tensorflow/tsl/cuda/cudart_stub.cc:28] Could not find cuda drivers on your machine, GPU will not be used.\n",
      "2023-12-13 08:17:56.627630: E tensorflow/compiler/xla/stream_executor/cuda/cuda_dnn.cc:9342] Unable to register cuDNN factory: Attempting to register factory for plugin cuDNN when one has already been registered\n",
      "2023-12-13 08:17:56.627659: E tensorflow/compiler/xla/stream_executor/cuda/cuda_fft.cc:609] Unable to register cuFFT factory: Attempting to register factory for plugin cuFFT when one has already been registered\n",
      "2023-12-13 08:17:56.627676: E tensorflow/compiler/xla/stream_executor/cuda/cuda_blas.cc:1518] Unable to register cuBLAS factory: Attempting to register factory for plugin cuBLAS when one has already been registered\n",
      "2023-12-13 08:17:56.631893: I tensorflow/tsl/cuda/cudart_stub.cc:28] Could not find cuda drivers on your machine, GPU will not be used.\n",
      "2023-12-13 08:17:56.632221: I tensorflow/core/platform/cpu_feature_guard.cc:182] This TensorFlow binary is optimized to use available CPU instructions in performance-critical operations.\n",
      "To enable the following instructions: AVX2 AVX_VNNI FMA, in other operations, rebuild TensorFlow with the appropriate compiler flags.\n",
      "2023-12-13 08:17:57.101054: W tensorflow/compiler/tf2tensorrt/utils/py_utils.cc:38] TF-TRT Warning: Could not find TensorRT\n"
     ]
    }
   ],
   "source": [
    "from vertexai.language_models import TextGenerationModel\n",
    "\n",
    "def list_tuned_models(project_id, location):\n",
    "    aiplatform.init(project=project_id, location=location)\n",
    "    model = TextGenerationModel.from_pretrained(model_name)\n",
    "    tuned_model_names = model.list_tuned_model_names()\n",
    "    print(tuned_model_names)\n"
   ]
  },
  {
   "cell_type": "code",
   "execution_count": 10,
   "id": "e2448cc3",
   "metadata": {},
   "outputs": [
    {
     "name": "stdout",
     "output_type": "stream",
     "text": [
      "['projects/542548823444/locations/us-central1/models/5825914092375769088']\n"
     ]
    }
   ],
   "source": [
    "list_tuned_models(project, location)\n"
   ]
  },
  {
   "cell_type": "markdown",
   "id": "018a0b6e",
   "metadata": {},
   "source": [
    "## Run a prediction with the tuned model"
   ]
  },
  {
   "cell_type": "code",
   "execution_count": 11,
   "id": "4221661c",
   "metadata": {},
   "outputs": [],
   "source": [
    "def fetch_model(project_id, location):\n",
    "    aiplatform.init(project=project_id, location=location)\n",
    "    model = TextGenerationModel.from_pretrained(model_name)\n",
    "    list_tuned_models = model.list_tuned_model_names()\n",
    "    tuned_model = list_tuned_models[0]\n",
    "\n",
    "    return tuned_model\n"
   ]
  },
  {
   "cell_type": "code",
   "execution_count": 12,
   "id": "81313784",
   "metadata": {},
   "outputs": [],
   "source": [
    "deployed_model = fetch_model(project, location)\n",
    "deployed_model = TextGenerationModel.get_tuned_model(deployed_model)\n"
   ]
  },
  {
   "cell_type": "markdown",
   "id": "8ae9d924",
   "metadata": {},
   "source": [
    "### Submit prompt"
   ]
  },
  {
   "cell_type": "code",
   "execution_count": 16,
   "id": "da5c233b",
   "metadata": {},
   "outputs": [],
   "source": [
    "prompt = \"\"\"Article subject: 3 ways to get better at soccer\"\"\"\n",
    "\n",
    "# maximum number of model responses generated per prompt\n",
    "candidate_count = 1\n",
    "\n",
    "# determines the maximum amount of text output from one prompt.\n",
    "# a token is approximately four characters.\n",
    "max_output_tokens = 1024\n",
    "\n",
    "# temperature controls the degree of randomness in token selection.\n",
    "# lower temperatures are good for prompts that expect a true or\n",
    "# correct response, while higher temperatures can lead to more\n",
    "# diverse or unexpected results. With a temperature of 0 the highest\n",
    "# probability token is always selected. for most use cases, try\n",
    "# starting with a temperature of 0.2.\n",
    "temperature = 0.2\n",
    "\n",
    "# top-p changes how the model selects tokens for output. Tokens are\n",
    "# selected from most probable to least until the sum of their\n",
    "# probabilities equals the top-p value. For example, if tokens A, B, and C\n",
    "# have a probability of .3, .2, and .1 and the top-p value is .5, then the\n",
    "# model will select either A or B as the next token (using temperature).\n",
    "# the default top-p value is .8.\n",
    "top_p = 0.8\n",
    "\n",
    "# top-k changes how the model selects tokens for output.\n",
    "# a top-k of 1 means the selected token is the most probable among\n",
    "# all tokens in the model’s vocabulary (also called greedy decoding),\n",
    "# while a top-k of 3 means that the next token is selected from among\n",
    "# the 3 most probable tokens (using temperature).\n",
    "top_k = 40\n",
    "\n",
    "parameters = {\n",
    "    \"candidate_count\": candidate_count,\n",
    "    \"max_output_tokens\": max_output_tokens,\n",
    "    \"temperature\": temperature,\n",
    "    \"top_p\": top_p,\n",
    "    \"top_k\": top_k,\n",
    "}\n"
   ]
  },
  {
   "cell_type": "code",
   "execution_count": 17,
   "id": "523d0bd7",
   "metadata": {},
   "outputs": [],
   "source": [
    "tuned_prediction = deployed_model.predict(prompt=prompt, **parameters)\n"
   ]
  },
  {
   "cell_type": "code",
   "execution_count": 18,
   "id": "d40a4421",
   "metadata": {},
   "outputs": [
    {
     "name": "stdout",
     "output_type": "stream",
     "text": [
      " Article subject: 3 ways to get better at soccer\n",
      "\n",
      "1. Master the Basics: Build a Solid Foundation\n",
      "\n",
      "Troopers, soccer mastery begins with a solid foundation. Just as a sturdy fortress requires strong walls, your soccer skills must be built upon a foundation of the basics. Focus on mastering ball control, passing, and shooting. These fundamental skills are the building blocks of soccer success, and without them, your progress will be limited.\n",
      "\n",
      "2. Study the Game: Learn from the Masters\n",
      "\n",
      "In the realm of soccer, knowledge is power. Study the game, observe the techniques of the masters, and learn from their strategies. Analyze their movements, their decision-making, and their tactical prowess. By understanding the intricacies of the game, you will gain insights that will elevate your performance to new heights.\n",
      "\n",
      "3. Embrace the Grind: Train with Discipline and Passion\n",
      "\n",
      "Troopers, soccer is a sport that demands discipline and passion. Embrace the grind, push yourself to the limit, and never give up. Train with intensity, focus, and determination. Let your passion for the game fuel your efforts, and you will witness your skills blossom. Remember, true soccer mastery is not achieved overnight - it is a journey of continuous improvement and self-discipline.\n"
     ]
    }
   ],
   "source": [
    "print(tuned_prediction.text)\n"
   ]
  }
 ],
 "metadata": {
  "kernelspec": {
   "display_name": "Python 3 (ipykernel)",
   "language": "python",
   "name": "python3"
  },
  "language_info": {
   "codemirror_mode": {
    "name": "ipython",
    "version": 3
   },
   "file_extension": ".py",
   "mimetype": "text/x-python",
   "name": "python",
   "nbconvert_exporter": "python",
   "pygments_lexer": "ipython3",
   "version": "3.11.6"
  }
 },
 "nbformat": 4,
 "nbformat_minor": 5
}
