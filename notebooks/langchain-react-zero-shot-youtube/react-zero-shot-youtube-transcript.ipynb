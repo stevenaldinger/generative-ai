{
 "cells": [
  {
   "cell_type": "markdown",
   "id": "b3d5d4bf-dadf-4058-8024-9da9e1ebbc89",
   "metadata": {},
   "source": [
    "# ReAct Zero-Shot from YouTube Transcript with LangChain and Gradio UI\n",
    "\n",
    "This notebook shows how to use the YouTube transcript API to turn content into embeddings, store those embeddings in a persistent local database, query the database directly for relevant pieces of text, and then how to use the database as a source for an LLM hooked into LangChain to create a zero-shot ReAct agent you can ask questions to.\n",
    "\n",
    "- https://python.langchain.com/docs/integrations/providers/youtube\n",
    "- https://python.langchain.com/docs/integrations/document_loaders/youtube_transcript"
   ]
  },
  {
   "cell_type": "markdown",
   "id": "cf77c8fe",
   "metadata": {},
   "source": [
    "## ChromaDB Persistence\n",
    "\n",
    "Each notebook that uses ChromaDB follows the same pattern for persistence.\n",
    "\n",
    "If the directory already exists that ChromaDB would be writing it's data to, it will load the existing database. If the directory does not exist, it will create a new database.\n",
    "\n",
    "If you change parameters that affect the embeddings generation (like swapping in a new YouTube URL), you'll need to delete the database directory to force a new database to be created.\n",
    "\n",
    "This can be done by running the following from the root of the repository. If the ChromaDB directory is `data/chromadb/youtube_transcripts`, you'd run the following to delete it:\n",
    "\n",
    "```sh\n",
    "rm -rf data/chromadb/youtube_transcripts\n",
    "```\n",
    "\n",
    "or if you run into permissions issues:\n",
    "\n",
    "```sh\n",
    "sudo rm -rf data/chromadb/youtube_transcripts\n",
    "```"
   ]
  },
  {
   "cell_type": "code",
   "execution_count": 1,
   "id": "7ecb0037-7968-4976-8324-9048df23d860",
   "metadata": {},
   "outputs": [],
   "source": [
    "import os\n",
    "\n",
    "# ****************** [START] Google Cloud project settings ****************** #\n",
    "project =  os.getenv('GCP_PROJECT')\n",
    "location = os.environ.get('GCP_REGION', 'us-central1')\n",
    "# ******************* [END] Google Cloud project settings ******************* #\n",
    "\n",
    "\n",
    "# *********************** [START] Embeddings config ************************* #\n",
    "# set rate limiting options for Vertex AI embeddings\n",
    "embeddings_requests_per_minute = 100\n",
    "embeddings_num_instances_per_batch = 5\n",
    "# *********************** [END] Embeddings config *************************** #\n",
    "\n",
    "\n",
    "# ********************** [START] data directory config ********************** #\n",
    "from helpers.files import get_data_dir\n",
    "data_dir = get_data_dir()\n",
    "chroma_db_dir = f'{data_dir}/chromadb'\n",
    "chroma_db_youtube_transcript_dir = f'{chroma_db_dir}/youtube_transcripts'\n",
    "# *********************** [END] data directory config *********************** #\n",
    "\n",
    "\n",
    "# ********************** [START] LLM data config **************************** #\n",
    "from helpers.files import file_exists\n",
    "\n",
    "collection_name = 'youtube-transcript'\n",
    "load_documents = True\n",
    "if file_exists(chroma_db_youtube_transcript_dir):\n",
    "    load_documents = False\n",
    "# *********************** [END] LLM data config ***************************** #\n",
    "\n",
    "\n",
    "# *********************** [START] LLM parameter config ********************** #\n",
    "# Vertex AI model to use for the LLM\n",
    "model_name='text-bison@002'\n",
    "\n",
    "# maximum number of model responses generated per prompt\n",
    "candidate_count = 5\n",
    "\n",
    "# determines the maximum amount of text output from one prompt.\n",
    "# a token is approximately four characters.\n",
    "max_output_tokens = 2048\n",
    "# max_output_tokens = 256\n",
    "\n",
    "# temperature controls the degree of randomness in token selection.\n",
    "# lower temperatures are good for prompts that expect a true or\n",
    "# correct response, while higher temperatures can lead to more\n",
    "# diverse or unexpected results. With a temperature of 0 the highest\n",
    "# probability token is always selected. for most use cases, try\n",
    "# starting with a temperature of 0.2.\n",
    "temperature = 0.2\n",
    "\n",
    "# top-p changes how the model selects tokens for output. Tokens are\n",
    "# selected from most probable to least until the sum of their\n",
    "# probabilities equals the top-p value. For example, if tokens A, B, and C\n",
    "# have a probability of .3, .2, and .1 and the top-p value is .5, then the\n",
    "# model will select either A or B as the next token (using temperature).\n",
    "# the default top-p value is .8.\n",
    "top_p = 0.8\n",
    "\n",
    "# top-k changes how the model selects tokens for output.\n",
    "# a top-k of 1 means the selected token is the most probable among\n",
    "# all tokens in the model’s vocabulary (also called greedy decoding),\n",
    "# while a top-k of 3 means that the next token is selected from among\n",
    "# the 3 most probable tokens (using temperature).\n",
    "top_k = 40\n",
    "\n",
    "# how verbose the llm and langchain agent is when thinking\n",
    "# through a prompt. you're going to want this set to True\n",
    "# for development so you can debug its thought process\n",
    "verbose = True\n",
    "# *********************** [END] LLM parameter config ************************ #\n",
    "\n",
    "\n",
    "# ********************** [START] Configuration Checks *********************** #\n",
    "if not project:\n",
    "    raise Exception('GCP_PROJECT environment variable not set')\n",
    "# *********************** [END] Configuration Checks ************************ #"
   ]
  },
  {
   "cell_type": "markdown",
   "id": "ae391bd0",
   "metadata": {},
   "source": [
    "## Import and Initialize Vertex AI Client\n",
    "\n",
    "This will complain about not having cuda drivers and the GPU not being used. You can safely ignore that. If you want to use the GPU, that's possible in Linux with Docker, but you'll need to set up a non-containerized development environment to use GPUs with MacOS."
   ]
  },
  {
   "cell_type": "code",
   "execution_count": 2,
   "id": "076f2cc2-ed7b-4381-ad68-e6c21b811f48",
   "metadata": {},
   "outputs": [
    {
     "name": "stderr",
     "output_type": "stream",
     "text": [
      "2023-12-17 00:55:39.706200: I tensorflow/core/util/port.cc:111] oneDNN custom operations are on. You may see slightly different numerical results due to floating-point round-off errors from different computation orders. To turn them off, set the environment variable `TF_ENABLE_ONEDNN_OPTS=0`.\n",
      "2023-12-17 00:55:39.707906: I tensorflow/tsl/cuda/cudart_stub.cc:28] Could not find cuda drivers on your machine, GPU will not be used.\n",
      "2023-12-17 00:55:39.726900: E tensorflow/compiler/xla/stream_executor/cuda/cuda_dnn.cc:9342] Unable to register cuDNN factory: Attempting to register factory for plugin cuDNN when one has already been registered\n",
      "2023-12-17 00:55:39.726931: E tensorflow/compiler/xla/stream_executor/cuda/cuda_fft.cc:609] Unable to register cuFFT factory: Attempting to register factory for plugin cuFFT when one has already been registered\n",
      "2023-12-17 00:55:39.726945: E tensorflow/compiler/xla/stream_executor/cuda/cuda_blas.cc:1518] Unable to register cuBLAS factory: Attempting to register factory for plugin cuBLAS when one has already been registered\n",
      "2023-12-17 00:55:39.731232: I tensorflow/tsl/cuda/cudart_stub.cc:28] Could not find cuda drivers on your machine, GPU will not be used.\n",
      "2023-12-17 00:55:39.731960: I tensorflow/core/platform/cpu_feature_guard.cc:182] This TensorFlow binary is optimized to use available CPU instructions in performance-critical operations.\n",
      "To enable the following instructions: AVX2 AVX_VNNI FMA, in other operations, rebuild TensorFlow with the appropriate compiler flags.\n",
      "2023-12-17 00:55:40.200635: W tensorflow/compiler/tf2tensorrt/utils/py_utils.cc:38] TF-TRT Warning: Could not find TensorRT\n"
     ]
    },
    {
     "name": "stdout",
     "output_type": "stream",
     "text": [
      "Vertex AI SDK version: 1.38.1\n"
     ]
    }
   ],
   "source": [
    "from google.cloud import aiplatform\n",
    "import vertexai\n",
    "\n",
    "vertexai.init(project=project, location=location)\n",
    "\n",
    "print(f\"Vertex AI SDK version: {aiplatform.__version__}\")\n"
   ]
  },
  {
   "cell_type": "markdown",
   "id": "842fc80c",
   "metadata": {},
   "source": [
    "## Import LangChain\n",
    "\n",
    "This doesn't actually initialize anything, it just lets us print the version."
   ]
  },
  {
   "cell_type": "code",
   "execution_count": 3,
   "id": "e87c2a83",
   "metadata": {},
   "outputs": [
    {
     "name": "stdout",
     "output_type": "stream",
     "text": [
      "LangChain version: 0.0.350\n"
     ]
    }
   ],
   "source": [
    "import langchain\n",
    "\n",
    "print(f\"LangChain version: {langchain.__version__}\")\n"
   ]
  },
  {
   "cell_type": "markdown",
   "id": "287b9a7c",
   "metadata": {},
   "source": [
    "## Configure LLM with Vertex AI"
   ]
  },
  {
   "cell_type": "code",
   "execution_count": 4,
   "id": "cac3671c",
   "metadata": {},
   "outputs": [],
   "source": [
    "from langchain.llms import VertexAI\n",
    "\n",
    "llm = VertexAI(\n",
    "    model_name=model_name,\n",
    "    max_output_tokens=max_output_tokens,\n",
    "    temperature=temperature,\n",
    "    top_p=top_p,\n",
    "    top_k=top_k,\n",
    "    verbose=verbose,\n",
    "    n=candidate_count,\n",
    ")\n"
   ]
  },
  {
   "cell_type": "markdown",
   "id": "81d9be59",
   "metadata": {},
   "source": [
    "## Initialize Embeddings Function with Vertex AI\n",
    "\n",
    "There are other options for creating embeddings. I was interested in sticking with Google products here."
   ]
  },
  {
   "cell_type": "code",
   "execution_count": 5,
   "id": "7bf3ecff",
   "metadata": {},
   "outputs": [],
   "source": [
    "from langchain.embeddings import VertexAIEmbeddings\n",
    "\n",
    "# https://api.python.langchain.com/en/latest/embeddings/langchain.embeddings.vertexai.VertexAIEmbeddings.html\n",
    "embeddings = VertexAIEmbeddings(\n",
    "    requests_per_minute=embeddings_requests_per_minute,\n",
    "    num_instances_per_batch=embeddings_num_instances_per_batch,\n",
    "    model_name = \"textembedding-gecko@latest\"\n",
    ")"
   ]
  },
  {
   "cell_type": "markdown",
   "id": "1d6d4e30",
   "metadata": {},
   "source": [
    "## Get YouTube Documents"
   ]
  },
  {
   "cell_type": "code",
   "execution_count": 6,
   "id": "ea7eb0bf",
   "metadata": {},
   "outputs": [],
   "source": [
    "from langchain.document_loaders import YoutubeLoader\n",
    "\n",
    "if load_documents:\n",
    "    loader = YoutubeLoader.from_youtube_url(\n",
    "        \"https://www.youtube.com/watch?v=cTjQp_TQlXo\",\n",
    "        add_video_info=True,\n",
    "    )\n",
    "\n",
    "    documents = loader.load()"
   ]
  },
  {
   "cell_type": "code",
   "execution_count": 7,
   "id": "d5d1c8f5",
   "metadata": {},
   "outputs": [],
   "source": [
    "from langchain.text_splitter import RecursiveCharacterTextSplitter\n",
    "from langchain.chains import RetrievalQA\n",
    "\n",
    "def split_docs(documents, chunk_size=1500, chunk_overlap=0):\n",
    "    text_splitter = RecursiveCharacterTextSplitter(chunk_size=chunk_size, chunk_overlap=chunk_overlap)\n",
    "    docs = text_splitter.split_documents(documents)\n",
    "    return docs\n",
    "\n",
    "if load_documents:\n",
    "    transformed_docs = split_docs(documents)\n"
   ]
  },
  {
   "cell_type": "markdown",
   "id": "dc61f949",
   "metadata": {},
   "source": [
    "## Create ChromaDB Database"
   ]
  },
  {
   "cell_type": "code",
   "execution_count": 8,
   "id": "005d94e6",
   "metadata": {},
   "outputs": [],
   "source": [
    "from helpers.files import file_exists\n",
    "from langchain.vectorstores import Chroma\n",
    "\n",
    "# if a vector db already exists, load it instead of creating a new one\n",
    "if load_documents:\n",
    "  # https://api.python.langchain.com/en/latest/vectorstores/langchain.vectorstores.chroma.Chroma.html#langchain.vectorstores.chroma.Chroma.from_documents\n",
    "  db = Chroma.from_documents(\n",
    "    transformed_docs,\n",
    "    embeddings,\n",
    "    collection_name=collection_name,\n",
    "    persist_directory=chroma_db_youtube_transcript_dir\n",
    "  )\n",
    "else:\n",
    "  db = Chroma(\n",
    "    persist_directory=chroma_db_youtube_transcript_dir,\n",
    "    embedding_function=embeddings,\n",
    "    collection_name=collection_name\n",
    "  )"
   ]
  },
  {
   "cell_type": "markdown",
   "id": "c2404505",
   "metadata": {},
   "source": [
    "## Query the vector database directly\n",
    "\n",
    "- https://python.langchain.com/docs/modules/data_connection/vectorstores/"
   ]
  },
  {
   "cell_type": "code",
   "execution_count": 9,
   "id": "fe084079",
   "metadata": {},
   "outputs": [
    {
     "name": "stdout",
     "output_type": "stream",
     "text": [
      "---\n",
      "Matching documents (similarity): 4\n",
      "page_content=\"away with his family around him foreign was taken to London where a large crowd of Barons escorted him to Westminster Abbey for a vigil and a mass before he was finally laid to rest in Temple Church in his funeral oration Archbishop Stephen Langton described William Marshall as the greatest Knight to be found in all the world he left his household in a magnificent position and he would have been sure that his lion would have gone on for Generations as one of the most powerful families in England unfortunately none of his five Sons were able to Father an heir so the male lion was extinguished after just one generation however his son William engaged a writer to record The Narrative of his father's extraordinary life based on written evidence and the stories of the men who knew him this is the first known biography of a medieval Knight and this remarkable Legacy provides a unique insight into the period and into one of the most remarkable men of the era William Marshall was a man of enormous ambition incredible skill in battle and politics under virtuous Knight who sought always to live up to the chivalric ideals of his age thank you to my patrons for supporting the channel if you enjoy my videos please do subscribe on patreon to ensure I can keep making them in future now please watch this video on the life of Richard the lionheart and check out my medieval history playlist for more Amazing Stories like this one thank you for watching [Music]\" metadata={'author': 'Dan Davis History', 'description': 'Unknown', 'length': 3204, 'publish_date': '2023-02-23 00:00:00', 'source': 'cTjQp_TQlXo', 'thumbnail_url': 'https://i.ytimg.com/vi/cTjQp_TQlXo/hq720.jpg', 'title': 'The Greatest Knight That Ever Lived: William Marshal', 'view_count': 1381585}\n",
      "page_content=\"quote I tell you no word of a lie it was well known and reported the fact is that with the Marshall's help the men of the Town managed to out fight their attackers end quote the biographer might be exaggerating but then again William did become the greatest tournament Knight of his generation perhaps the greatest ever so it is entirely possible or even likely that he was the most skilled as well as the most motivated Knight on the field that day however although William bested many wealthy men he did not have the wisdom to take any of them prisoner thus unable to Ransom those nights he remained impoverished Not only was he now without a war horse he did not have the funds to replace it what was more the Border conflict soon fizzled out and peace returned to Normandy so tankerville reduced the number of nights in his retinue and William found himself let go with no Lord he now had no home no money and no real prospects an impoverished Knight with no master was a dishonorable state to be in and perhaps he considered returning home to England his father John Marshall had died in 1165 and William's older brother John had inherited the martial lands and the position of Marshall as the younger brother William could have asked for a position in the new Marshall's household it would have been a comfortable existence coming at the cost of living in his brother's Shadow William though was never interested in taking the easy path he sold the cloak he had been awarded by tankerville at\" metadata={'author': 'Dan Davis History', 'description': 'Unknown', 'length': 3204, 'publish_date': '2023-02-23 00:00:00', 'source': 'cTjQp_TQlXo', 'thumbnail_url': 'https://i.ytimg.com/vi/cTjQp_TQlXo/hq720.jpg', 'title': 'The Greatest Knight That Ever Lived: William Marshal', 'view_count': 1381585}\n",
      "page_content=\"nine-year-old child Henry the pious son of the Dead King John William was about 69 years old at this point he had climbed to become one of the leading men of the Kingdom famous across Christendom for his Skillet arms and his unswerving loyalty to choose to support Henry would mean choosing almost certain defeat and all his lands entitled would be lost and the prospects of his sons and daughters would be dashed most men would have made the rational choice but what makes the Marshall into one of the greatest Knights you ever lived is that he repeatedly chose to serve higher ideals over material gain never in his life had he turned his back on a lord or a king and once again towards the end of his life he chose to honor his chivalric ideals and swore to protect the young Henry the biographer relates the moment that William took possession of the boy welcome sir young Henry said I entrust myself to God and to you praying you in God's name to care for me and may the true God who bestows all blessings grant that you manage our Affairs successfully and keep us safe my dear Lord the Marshal said to the small child I Faithfully swear upon my soul as long as I am able I shall be your loyal servant and ever mindful of your safety both the Marshall and the boy and all those around them were moved to tears it must have all seemed so hopeless and yet William wasted not a moment in rushing Henry to be crowned at Gloucester the meager royalist forces fell gratefully in behind his authority\" metadata={'author': 'Dan Davis History', 'description': 'Unknown', 'length': 3204, 'publish_date': '2023-02-23 00:00:00', 'source': 'cTjQp_TQlXo', 'thumbnail_url': 'https://i.ytimg.com/vi/cTjQp_TQlXo/hq720.jpg', 'title': 'The Greatest Knight That Ever Lived: William Marshal', 'view_count': 1381585}\n",
      "page_content=\"this video is sponsored by wandrium when William Marshall died in the year 1219 he was the most powerful and most highly respected man in the Kingdom of England he was the Earl of Pembroke the Regent for the young Henry III and had recently defeated a great rebellion of English Lords and thrown back a devastating Invasion by the French the young king owed William marshalled his kingdom and all England owed him the hard-won peace upon his death the Archbishop Stephen Langton called him the greatest Knight in the world but he was not given these great honors he won them by his great deeds and his many virtues he began his life as the second son of a minor Noble destined to inherit nothing of value it was his talent as a knight on the battlefield and as a tournament champion that won him renowned and riches through hundreds of Victories and for 51 years he loyally served King Henry II his wife Eleanor of Aquitaine their sons Henry the young king Richard the lionheart and King John and their grandson Henry III but was he really such a Peerless Warrior and Paragon of chivalry or was he also a cunning politician who expertly negotiated the ebb and flow of the dynastic royal family for his own ends this is the incredible story of William Marshall you can learn much more about the epic history of the Medieval World through this video's sponsor wandrium wondering brings you engaging educational content through short form videos long-form courses tutorials how-to lessons travel logs\" metadata={'author': 'Dan Davis History', 'description': 'Unknown', 'length': 3204, 'publish_date': '2023-02-23 00:00:00', 'source': 'cTjQp_TQlXo', 'thumbnail_url': 'https://i.ytimg.com/vi/cTjQp_TQlXo/hq720.jpg', 'title': 'The Greatest Knight That Ever Lived: William Marshal', 'view_count': 1381585}\n",
      "---\n",
      "Matching documents (max marginal relevance): 4\n",
      "page_content=\"away with his family around him foreign was taken to London where a large crowd of Barons escorted him to Westminster Abbey for a vigil and a mass before he was finally laid to rest in Temple Church in his funeral oration Archbishop Stephen Langton described William Marshall as the greatest Knight to be found in all the world he left his household in a magnificent position and he would have been sure that his lion would have gone on for Generations as one of the most powerful families in England unfortunately none of his five Sons were able to Father an heir so the male lion was extinguished after just one generation however his son William engaged a writer to record The Narrative of his father's extraordinary life based on written evidence and the stories of the men who knew him this is the first known biography of a medieval Knight and this remarkable Legacy provides a unique insight into the period and into one of the most remarkable men of the era William Marshall was a man of enormous ambition incredible skill in battle and politics under virtuous Knight who sought always to live up to the chivalric ideals of his age thank you to my patrons for supporting the channel if you enjoy my videos please do subscribe on patreon to ensure I can keep making them in future now please watch this video on the life of Richard the lionheart and check out my medieval history playlist for more Amazing Stories like this one thank you for watching [Music]\" metadata={'author': 'Dan Davis History', 'description': 'Unknown', 'length': 3204, 'publish_date': '2023-02-23 00:00:00', 'source': 'cTjQp_TQlXo', 'thumbnail_url': 'https://i.ytimg.com/vi/cTjQp_TQlXo/hq720.jpg', 'title': 'The Greatest Knight That Ever Lived: William Marshal', 'view_count': 1381585}\n",
      "page_content=\"nine-year-old child Henry the pious son of the Dead King John William was about 69 years old at this point he had climbed to become one of the leading men of the Kingdom famous across Christendom for his Skillet arms and his unswerving loyalty to choose to support Henry would mean choosing almost certain defeat and all his lands entitled would be lost and the prospects of his sons and daughters would be dashed most men would have made the rational choice but what makes the Marshall into one of the greatest Knights you ever lived is that he repeatedly chose to serve higher ideals over material gain never in his life had he turned his back on a lord or a king and once again towards the end of his life he chose to honor his chivalric ideals and swore to protect the young Henry the biographer relates the moment that William took possession of the boy welcome sir young Henry said I entrust myself to God and to you praying you in God's name to care for me and may the true God who bestows all blessings grant that you manage our Affairs successfully and keep us safe my dear Lord the Marshal said to the small child I Faithfully swear upon my soul as long as I am able I shall be your loyal servant and ever mindful of your safety both the Marshall and the boy and all those around them were moved to tears it must have all seemed so hopeless and yet William wasted not a moment in rushing Henry to be crowned at Gloucester the meager royalist forces fell gratefully in behind his authority\" metadata={'author': 'Dan Davis History', 'description': 'Unknown', 'length': 3204, 'publish_date': '2023-02-23 00:00:00', 'source': 'cTjQp_TQlXo', 'thumbnail_url': 'https://i.ytimg.com/vi/cTjQp_TQlXo/hq720.jpg', 'title': 'The Greatest Knight That Ever Lived: William Marshal', 'view_count': 1381585}\n",
      "page_content=\"only physical but financial and being defeated would cost the man dearly the two sides of dozens and sometimes hundreds of knights would line up on opposite sides of a large field when the signal was given they would charge into a great Clash after the first stages of the battle the fighting would break up into smaller contingents ranging across miles of Countryside until sundown and William's first tournament was a success taking two very valuable Prisoners the first he battered to the ground with a lance and the second he seized by taking his horse's bridle and dragging him away before overpowering him a remarkable display of Daring and horsemanship in the midst of the Malay especially considering he had such a difficult horse of his own to handle and in fact this would go on to become William's signature move his skill and bravery that day set him on the path to financial success he won not only cash but four war horses along with other horses and a fine array of gear and his new wealth transformed his status as a knight immediately tankerville and his retinue treated William with new respect because material wealth especially that one in combat demonstrates a man's inner virtue as William's biographer says how much you've got is how much you're worth and how much we care about you William at once set off for a new tournament to be held just three days later riding day and night to make it in time he performed so valiantly there that he was declared outright winner of the\" metadata={'author': 'Dan Davis History', 'description': 'Unknown', 'length': 3204, 'publish_date': '2023-02-23 00:00:00', 'source': 'cTjQp_TQlXo', 'thumbnail_url': 'https://i.ytimg.com/vi/cTjQp_TQlXo/hq720.jpg', 'title': 'The Greatest Knight That Ever Lived: William Marshal', 'view_count': 1381585}\n",
      "page_content=\"Second Son Richard was given over to John as a hostage John already had Williams firstborn son William in his care this was done to ensure the martial's ongoing loyalty spending much of the coming years in Ireland strengthening his position there William was summoned to court again in 1213 things had not been going very well for Jon his ill treatment of the Lords of the realm combined with his string of military failures and arguments with the church had placed him in a fragile position enemies within and Beyond The Kingdom gathered most sponsored by the cunning King Philip who dreamed of taking England for himself William had been treated as badly as anyone by Jon but he chose at this time to extend the hand of friendship to the king somehow marshaling 26 anglo-irish Barons to renew their Oaths of loyalty to the crown why would he Place himself in such danger when the safer course of action would have been to stand back and watch John fall well he secured the freedom of his sons William and Richard from John's clutches and surely that was an important consideration but he then threw himself fully behind John winning ever more of the royal favor he had lost when Jon found himself with so few friends he richly rewarded those that remained John launched an invasion of Normandy in 1213 when the English army was defeated in a pitched battle at buvin William was not there he was left to guard against opportunist attacks by the unruly Welsh but the defeat was so devastating that\" metadata={'author': 'Dan Davis History', 'description': 'Unknown', 'length': 3204, 'publish_date': '2023-02-23 00:00:00', 'source': 'cTjQp_TQlXo', 'thumbnail_url': 'https://i.ytimg.com/vi/cTjQp_TQlXo/hq720.jpg', 'title': 'The Greatest Knight That Ever Lived: William Marshal', 'view_count': 1381585}\n"
     ]
    }
   ],
   "source": [
    "def print_db_docs(search_type, docs):\n",
    "    print('---')\n",
    "    print(f\"Matching documents ({search_type}): {len(docs)}\")\n",
    "\n",
    "    # print out the first 5 results\n",
    "    for doc in docs[:5]:\n",
    "        print(doc)\n",
    "\n",
    "\n",
    "query = \"Will who was the Greatest Knight?\"\n",
    "docs = db.similarity_search(query)\n",
    "print_db_docs(\"similarity\", docs)\n",
    "\n",
    "docs = db.max_marginal_relevance_search(query)\n",
    "print_db_docs(\"max marginal relevance\", docs)\n"
   ]
  },
  {
   "cell_type": "markdown",
   "id": "98d9c4ac",
   "metadata": {},
   "source": [
    "## Make Retrieval QA Chain"
   ]
  },
  {
   "cell_type": "code",
   "execution_count": 10,
   "id": "f21af597",
   "metadata": {},
   "outputs": [],
   "source": [
    "retrieval_qa = RetrievalQA.from_chain_type(\n",
    "    llm=llm,\n",
    "    chain_type=\"stuff\",\n",
    "    retriever=db.as_retriever()\n",
    ")"
   ]
  },
  {
   "cell_type": "markdown",
   "id": "90f374ab",
   "metadata": {},
   "source": [
    "## Ask the Retrieval QA Chain Some Questions"
   ]
  },
  {
   "cell_type": "code",
   "execution_count": 11,
   "id": "269ba9a1",
   "metadata": {},
   "outputs": [
    {
     "name": "stdout",
     "output_type": "stream",
     "text": [
      "---\n",
      "Query: Who was the Greatest Knight?\n",
      "Result:  The greatest knight was William Marshall, according to Archbishop Stephen Langton.\n"
     ]
    }
   ],
   "source": [
    "def print_retrieval_qa_results(result):\n",
    "    print('---')\n",
    "    print(f\"Query: {result['query']}\")\n",
    "    print(f\"Result: {result['result']}\")\n",
    "\n",
    "\n",
    "query = \"Who was the Greatest Knight?\"\n",
    "result = retrieval_qa({'query': query})\n",
    "print_retrieval_qa_results(result)\n"
   ]
  },
  {
   "cell_type": "markdown",
   "id": "13a65c0c",
   "metadata": {},
   "source": [
    "## Configure Retrieval Tool\n",
    "\n",
    "This will provide knowledge about the YouTube video to the ReAct agent."
   ]
  },
  {
   "cell_type": "code",
   "execution_count": 15,
   "id": "12a5766c",
   "metadata": {},
   "outputs": [],
   "source": [
    "from langchain.agents import initialize_agent, Tool, AgentExecutor\n",
    "\n",
    "tools = [\n",
    "  Tool(\n",
    "    name=\"Search William Marshal YouTube Transcript\",\n",
    "    func=retrieval_qa.run,\n",
    "    description=\"useful for searching information about William Marshal\",\n",
    "  ),\n",
    "]\n"
   ]
  },
  {
   "cell_type": "markdown",
   "id": "f447fbcb",
   "metadata": {},
   "source": [
    "## Initialize ReAct Agent"
   ]
  },
  {
   "cell_type": "code",
   "execution_count": 16,
   "id": "6a5efa30",
   "metadata": {},
   "outputs": [],
   "source": [
    "from langchain.agents import AgentType\n",
    "\n",
    "# initialize ReAct agent\n",
    "react = initialize_agent(\n",
    "  tools,\n",
    "  llm,\n",
    "  agent=AgentType.ZERO_SHOT_REACT_DESCRIPTION,\n",
    "  verbose=True,\n",
    "  # https://python.langchain.com/docs/modules/agents/how_to/max_time_limit\n",
    "  max_execution_time=60,\n",
    "  # By default, the early stopping uses the force method which\n",
    "  # just returns that constant string. Alternatively, you could\n",
    "  # specify the generate method which then does one FINAL pass\n",
    "  # through the LLM to generate an output.\n",
    "  early_stopping_method=\"generate\",\n",
    ")\n",
    "\n",
    "agent_executor = AgentExecutor.from_agent_and_tools(\n",
    "  agent=react.agent,\n",
    "  tools=tools,\n",
    "  verbose=True,\n",
    ")\n"
   ]
  },
  {
   "cell_type": "markdown",
   "id": "49b02283",
   "metadata": {},
   "source": [
    "## Ask something that requires context from the YouTube transcript"
   ]
  },
  {
   "cell_type": "code",
   "execution_count": 20,
   "id": "8b885e2e",
   "metadata": {},
   "outputs": [
    {
     "name": "stdout",
     "output_type": "stream",
     "text": [
      "\n",
      "\n",
      "\u001b[1m> Entering new AgentExecutor chain...\u001b[0m\n",
      "\u001b[32;1m\u001b[1;3m I think the answer can be found in the William Marshal YouTube Transcript\n",
      "Action: Search William Marshal YouTube Transcript\n",
      "Action Input: Greatest Knight\u001b[0m\n",
      "Observation: \u001b[36;1m\u001b[1;3m The Archbishop Stephen Langton described William Marshall as the greatest Knight to be found in all the world.\u001b[0m\n",
      "Thought:\u001b[32;1m\u001b[1;3m I now know the final answer\n",
      "Final Answer: William Marshal was described as the greatest Knight by the Archbishop Stephen Langton.\u001b[0m\n",
      "\n",
      "\u001b[1m> Finished chain.\u001b[0m\n",
      "\n",
      "\n",
      "\u001b[1m> Entering new AgentExecutor chain...\u001b[0m\n",
      "\u001b[32;1m\u001b[1;3m I can search the William Marshal YouTube transcript to find the answer.\n",
      "Action: Search William Marshal YouTube Transcript\n",
      "Action Input: Who was the Greatest Knight?\u001b[0m\n",
      "Observation: \u001b[36;1m\u001b[1;3m The greatest knight was William Marshall, according to Archbishop Stephen Langton.\u001b[0m\n",
      "Thought:\u001b[32;1m\u001b[1;3m The answer is William Marshall.\n",
      "Final Answer: William Marshall\u001b[0m\n",
      "\n",
      "\u001b[1m> Finished chain.\u001b[0m\n",
      "Agent result: William Marshall\n",
      "\n",
      "\n",
      "\u001b[1m> Entering new AgentExecutor chain...\u001b[0m\n",
      "\u001b[32;1m\u001b[1;3m William Marshal was a renowned knight, but I need more information to determine why he was considered the greatest.\n",
      "Action: Search William Marshal YouTube Transcript\n",
      "Action Input: \"Why was William Marshal the Greatest Knight?\"\u001b[0m\n",
      "Observation: \u001b[36;1m\u001b[1;3m William Marshal was considered the greatest knight in the world due to his exceptional skills in battle, his unwavering loyalty, and his embodiment of chivalric ideals. He was a renowned tournament champion, winning hundreds of victories throughout his career. His prowess as a warrior was matched by his strategic prowess, as he consistently made sound decisions in the heat of combat. Additionally, he was known for his virtuous character and his commitment to upholding the values of chivalry, such as honor, bravery, and courtesy.\u001b[0m\n",
      "Thought:\u001b[32;1m\u001b[1;3m I now know the final answer.\n",
      "Final Answer: William Marshal was considered the greatest knight due to his exceptional combat skills, strategic prowess, and embodiment of chivalric ideals.\u001b[0m\n",
      "\n",
      "\u001b[1m> Finished chain.\u001b[0m\n"
     ]
    },
    {
     "data": {
      "text/plain": [
       "'William Marshal was considered the greatest knight due to his exceptional combat skills, strategic prowess, and embodiment of chivalric ideals.'"
      ]
     },
     "execution_count": 20,
     "metadata": {},
     "output_type": "execute_result"
    }
   ],
   "source": [
    "question = \"Who was the Greatest Knight?\"\n",
    "agent_executor.run(question)\n",
    "\n",
    "question = \"Who was the Greatest Knight? Only respond with a first and last name.\"\n",
    "agent_result = agent_executor.run(question)\n",
    "\n",
    "print(f\"Agent result: {agent_result}\")\n",
    "\n",
    "question = f\"Why was {agent_result} the Greatest Knight?\"\n",
    "agent_executor.run(question)\n"
   ]
  },
  {
   "cell_type": "markdown",
   "id": "c850949a",
   "metadata": {},
   "source": [
    "## Create Prompt Template"
   ]
  },
  {
   "cell_type": "code",
   "execution_count": 21,
   "id": "6a75c165",
   "metadata": {},
   "outputs": [],
   "source": [
    "def sm_ask(question, print_results=True):\n",
    "  video_subset = retrieval_qa({\"query\": question})\n",
    "  context = video_subset\n",
    "\n",
    "  prompt = f\"\"\"\n",
    "  Answer the following question in a detailed manner, using information from the text below. If the answer is not in the text, say I dont know and do not generate your own response.\n",
    "\n",
    "  Question:\n",
    "  {question}\n",
    "  Text:\n",
    "  {context}\n",
    "\n",
    "  Question:\n",
    "  {question}\n",
    "\n",
    "  Answer:\n",
    "  \"\"\"\n",
    "\n",
    "  parameters = {\n",
    "    \"temperature\": temperature,\n",
    "    \"max_output_tokens\": max_output_tokens,\n",
    "    \"top_p\": top_p,\n",
    "    \"top_k\": top_k,\n",
    "  }\n",
    "\n",
    "  response = llm.predict(prompt, **parameters)\n",
    "\n",
    "  return {\n",
    "    \"answer\": response\n",
    "  }"
   ]
  },
  {
   "cell_type": "markdown",
   "id": "742c3f1d",
   "metadata": {},
   "source": [
    "## Create Gradio Interface"
   ]
  },
  {
   "cell_type": "code",
   "execution_count": 22,
   "id": "ed76ee92",
   "metadata": {},
   "outputs": [
    {
     "name": "stdout",
     "output_type": "stream",
     "text": [
      "Running on local URL:  http://0.0.0.0:5000\n",
      "\n",
      "To create a public link, set `share=True` in `launch()`.\n"
     ]
    },
    {
     "data": {
      "text/html": [
       "<div><iframe src=\"http://localhost:5000/\" width=\"100%\" height=\"500\" allow=\"autoplay; camera; microphone; clipboard-read; clipboard-write;\" frameborder=\"0\" allowfullscreen></iframe></div>"
      ],
      "text/plain": [
       "<IPython.core.display.HTML object>"
      ]
     },
     "metadata": {},
     "output_type": "display_data"
    },
    {
     "data": {
      "text/plain": []
     },
     "execution_count": 22,
     "metadata": {},
     "output_type": "execute_result"
    }
   ],
   "source": [
    "import gradio as gr\n",
    "def get_response(input_text):\n",
    "  response = sm_ask(input_text)\n",
    "  return response\n",
    "\n",
    "grapp = gr.Interface(fn=get_response, inputs=\"text\", outputs=\"text\")\n",
    "\n",
    "# https://www.gradio.app/docs/interface\n",
    "grapp.launch(\n",
    "  server_name=\"0.0.0.0\",\n",
    "  server_port=5000,\n",
    ")\n"
   ]
  }
 ],
 "metadata": {
  "kernelspec": {
   "display_name": "Python 3 (ipykernel)",
   "language": "python",
   "name": "python3"
  },
  "language_info": {
   "codemirror_mode": {
    "name": "ipython",
    "version": 3
   },
   "file_extension": ".py",
   "mimetype": "text/x-python",
   "name": "python",
   "nbconvert_exporter": "python",
   "pygments_lexer": "ipython3",
   "version": "3.11.6"
  }
 },
 "nbformat": 4,
 "nbformat_minor": 5
}
